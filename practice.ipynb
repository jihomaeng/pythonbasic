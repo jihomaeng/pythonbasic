{
 "cells": [
  {
   "cell_type": "markdown",
   "id": "c14495f2-f6b3-4f44-92a4-e392a691ff9f",
   "metadata": {},
   "source": [
    "# Practice "
   ]
  },
  {
   "cell_type": "markdown",
   "id": "ec2ca81d-f0bc-4cf0-9e5e-5fd7ec646247",
   "metadata": {},
   "source": [
    "## 연습문제1"
   ]
  },
  {
   "cell_type": "code",
   "execution_count": 11,
   "id": "e0156cf4-5341-4eaf-a298-07eeb18d66d1",
   "metadata": {},
   "outputs": [
    {
     "name": "stdout",
     "output_type": "stream",
     "text": [
      "False\n",
      "False\n",
      "False\n"
     ]
    }
   ],
   "source": [
    "scores = [88, 73, 89, 59, 77]\n",
    "print(scores[0] >= 60 and scores[1] >= 60 and scores[2] >= 60 and scores[3] >= 60 and scores[4] >= 60)\n",
    "print(scores[0] and scores[1] and scores[2] and scores[3] and scores[4] < 60)\n",
    "for i in range(len(scores)):\n",
    "    if scores[i] < 60:\n",
    "        print(False)"
   ]
  },
  {
   "cell_type": "markdown",
   "id": "90559764-0910-4e2a-b5ab-8bb32611f99b",
   "metadata": {},
   "source": [
    "## 연습문제2"
   ]
  },
  {
   "cell_type": "code",
   "execution_count": 68,
   "id": "4b3e6ced-4f57-4765-b10d-e6f8dcebf013",
   "metadata": {},
   "outputs": [
    {
     "name": "stdin",
     "output_type": "stream",
     "text": [
      "이름을 입력하세요: 엔코아\n"
     ]
    },
    {
     "name": "stdout",
     "output_type": "stream",
     "text": [
      "엔코아씨, 안녕하세요 \n",
      "파이썬에 오신 것을 환영합니다.\n"
     ]
    },
    {
     "name": "stdin",
     "output_type": "stream",
     "text": [
      "첫 번째 정수를 입력하세요: 300\n",
      "두 번째 정수를 입력하세요: 400\n"
     ]
    },
    {
     "name": "stdout",
     "output_type": "stream",
     "text": [
      "300 과 400 의 합은 700 입니다.\n"
     ]
    }
   ],
   "source": [
    "name = input(\"이름을 입력하세요:\")\n",
    "print(name + \"씨, 안녕하세요 \\n파이썬에 오신 것을 환영합니다.\")\n",
    "fir = int(input(\"첫 번째 정수를 입력하세요:\"))\n",
    "sec = int(input(\"두 번째 정수를 입력하세요:\"))\n",
    "print(fir, \"과\", sec, \"의 합은\", fir + sec, \"입니다.\")"
   ]
  },
  {
   "cell_type": "markdown",
   "id": "0fb7d8ed-4445-406e-8737-2071bd2b3e9d",
   "metadata": {},
   "source": [
    "## 연습문제 3"
   ]
  },
  {
   "cell_type": "code",
   "execution_count": 1,
   "id": "d562f352-5e1f-44fc-b193-7e39bb89da16",
   "metadata": {},
   "outputs": [
    {
     "name": "stdin",
     "output_type": "stream",
     "text": [
      "경기장은 어디입니까? 고척\n",
      "이긴 팀은 어디입니까? ㅇ\n",
      "진 팀은 어디입니까? ㅇ\n",
      "우수 선수는 누구입니까? ㅇ\n",
      "스코어는 몇대몇입니까? ㅇ\n"
     ]
    },
    {
     "name": "stdout",
     "output_type": "stream",
     "text": [
      "---------------------------------\n",
      "[속보] ㅇ 가 ㅇ 로 승리...\n",
      "오늘 고척 경기장에서 야구 경기가 있었습니다.\n",
      "ㅇ 과 ㅇ 는 치열한 공방전을 펼쳤습니다.\n",
      "이 경기에서 ㅇ 가 맹활약을 했습니다.\n",
      "그 끝내 ㅇ 가 ㅇ 를 ㅇ 로 승리하였습니다. \n",
      "기사 끝.\n"
     ]
    }
   ],
   "source": [
    "where = input(\"경기장은 어디입니까?\")\n",
    "win = input(\"이긴 팀은 어디입니까?\")\n",
    "lose = input(\"진 팀은 어디입니까?\")\n",
    "mvp = input(\"우수 선수는 누구입니까?\")\n",
    "score = input(\"스코어는 몇대몇입니까?\")\n",
    "\n",
    "print(\"---------------------------------\")\n",
    "print(\"[속보]\",win, \"가\", score,\"로 승리...\")\n",
    "print(\"오늘\", where ,\"경기장에서 야구 경기가 있었습니다.\")\n",
    "print(win, \"과\" , lose ,\"는 치열한 공방전을 펼쳤습니다.\")\n",
    "print(\"이 경기에서\", mvp, \"가 맹활약을 했습니다.\")\n",
    "print(\"그 끝내\", win, \"가\", lose, \"를\" , score, \"로 승리하였습니다. \\n기사 끝.\")"
   ]
  },
  {
   "cell_type": "markdown",
   "id": "fd7d272e-c065-4f43-bcb4-74800dc4992f",
   "metadata": {},
   "source": [
    "## 연습문제 4\n",
    "사용자로부터 \"hh:mm:ss\" 형태의 시간 값을 입력 받는다. 예를 들어 12시 33분 23초일 때 \"12:33:23\"과 같이 입력을 받는다. "
   ]
  },
  {
   "cell_type": "code",
   "execution_count": 8,
   "id": "0a4845ff-ad61-4aa3-817e-dd374fb680df",
   "metadata": {},
   "outputs": [
    {
     "name": "stdin",
     "output_type": "stream",
     "text": [
      "hh:mm:ss의 형태로 시간을 입력해주세요 12:33:23\n"
     ]
    },
    {
     "name": "stdout",
     "output_type": "stream",
     "text": [
      "시: 12\n",
      "분: 33\n",
      "초: 23\n"
     ]
    }
   ],
   "source": [
    "hh, mm, ss = input(\"hh:mm:ss의 형태로 시간을 입력해주세요\").split(\":\")\n",
    "\n",
    "print(\"시:\", hh)\n",
    "print(\"분:\", mm)\n",
    "print(\"초:\", ss)"
   ]
  },
  {
   "cell_type": "markdown",
   "id": "4bc2b01c-e18d-4951-9948-e4116e958da7",
   "metadata": {},
   "source": [
    "## 연습문제 5"
   ]
  },
  {
   "cell_type": "code",
   "execution_count": 105,
   "id": "20fc2e49-4bc3-4996-abff-a0a45040297d",
   "metadata": {},
   "outputs": [
    {
     "name": "stdin",
     "output_type": "stream",
     "text": [
      "국어, 영어, 수학, 과학 점수를 입력해주세요 98,100,96,100\n"
     ]
    },
    {
     "name": "stdout",
     "output_type": "stream",
     "text": [
      "평균 점수는 98.5 점입니다.\n"
     ]
    },
    {
     "name": "stdin",
     "output_type": "stream",
     "text": [
      "국어, 영어, 수학, 과학 점수를 입력해주세요 98,96,100,100\n"
     ]
    },
    {
     "name": "stdout",
     "output_type": "stream",
     "text": [
      "평균 점수는 98.5 점입니다.\n"
     ]
    }
   ],
   "source": [
    "score = list(map(int, input(\"국어, 영어, 수학, 과학 점수를 입력해주세요\").split(',')))\n",
    "avg = sum(score) / len(score)\n",
    "print(\"평균 점수는\", avg, \"점입니다.\")\n",
    "\n",
    "kor, eng, mat, sci = map(int, input(\"국어, 영어, 수학, 과학 점수를 입력해주세요\").split(','))\n",
    "avg2 = (kor+eng+mat+sci)/4\n",
    "print(\"평균 점수는\", avg2, \"점입니다.\")"
   ]
  },
  {
   "cell_type": "markdown",
   "id": "6f44c9ad-736f-4b58-83e6-8008786bdf3b",
   "metadata": {
    "tags": []
   },
   "source": [
    "## 연습문제 6"
   ]
  },
  {
   "cell_type": "code",
   "execution_count": 10,
   "id": "9e4232ed-669f-49e0-a6fa-db1510bf4902",
   "metadata": {},
   "outputs": [
    {
     "name": "stdout",
     "output_type": "stream",
     "text": [
      "2021/02/03 18:33:23\n"
     ]
    }
   ],
   "source": [
    "year = '2021'\n",
    "month = '02'\n",
    "day = '03'\n",
    "hour = '18'\n",
    "minute ='33'\n",
    "second = '23'\n",
    "\n",
    "print(year, month, day, sep = '/', end = \" \")\n",
    "print(hour, minute, second, sep = \":\")"
   ]
  },
  {
   "cell_type": "markdown",
   "id": "1c743389-aa55-4a46-b06e-36ba0a36ecbf",
   "metadata": {},
   "source": [
    "## 연습문제 7"
   ]
  },
  {
   "cell_type": "code",
   "execution_count": 17,
   "id": "8f3442b5-5395-4b1a-80b3-d17bde482437",
   "metadata": {},
   "outputs": [
    {
     "name": "stdin",
     "output_type": "stream",
     "text": [
      "사과와 귤을 몇개 드릴까요? 10,20\n"
     ]
    },
    {
     "name": "stdout",
     "output_type": "stream",
     "text": [
      "\n",
      "실행결과:\n",
      "총 가격은 14000원입니다.\n"
     ]
    }
   ],
   "source": [
    "apple, mandarin = map(int, input(\"사과와 귤을 몇개 드릴까요?\").split(','))\n",
    "hap = apple*1000 + mandarin*200\n",
    "\n",
    "print(\"\\n실행결과:\")\n",
    "print(\"총 가격은 \", hap, \"원입니다.\", sep =\"\")"
   ]
  },
  {
   "cell_type": "markdown",
   "id": "68f3dad2-1cdb-4a80-958a-a3caea9065df",
   "metadata": {},
   "source": [
    "## 연습문제 8"
   ]
  },
  {
   "cell_type": "code",
   "execution_count": 25,
   "id": "3b3fcc0a-eadb-495c-8709-bb0542bc2bb1",
   "metadata": {},
   "outputs": [
    {
     "name": "stdout",
     "output_type": "stream",
     "text": [
      "실행결과:\n"
     ]
    },
    {
     "name": "stdin",
     "output_type": "stream",
     "text": [
      "아이디를 입력하세요: biana\n",
      "회원등급을 입력해주세요: 3\n"
     ]
    },
    {
     "name": "stdout",
     "output_type": "stream",
     "text": [
      "\n",
      "제한적인 권한을 갖습니다.\n"
     ]
    }
   ],
   "source": [
    "print(\"실행결과:\")\n",
    "\n",
    "id = input(\"아이디를 입력하세요:\")\n",
    "\n",
    "if id != \"admin\":\n",
    "    grade = int(input(\"회원등급을 입력해주세요:\"))\n",
    "    if 1 <= grade <= 3:\n",
    "        print(\"\\n제한적인 권한을 갖습니다.\")\n",
    "    else:\n",
    "        print(\"\\n권한이 없습니다.\")\n",
    "else:\n",
    "    print(\"최고 관리자, 모든 권한을 갖습니다.\")"
   ]
  },
  {
   "cell_type": "code",
   "execution_count": null,
   "id": "ed9bc4b2-4e7e-4f67-a16b-c026f2fae5b3",
   "metadata": {},
   "outputs": [],
   "source": []
  }
 ],
 "metadata": {
  "kernelspec": {
   "display_name": "Python 3 (ipykernel)",
   "language": "python",
   "name": "python3"
  },
  "language_info": {
   "codemirror_mode": {
    "name": "ipython",
    "version": 3
   },
   "file_extension": ".py",
   "mimetype": "text/x-python",
   "name": "python",
   "nbconvert_exporter": "python",
   "pygments_lexer": "ipython3",
   "version": "3.9.13"
  }
 },
 "nbformat": 4,
 "nbformat_minor": 5
}
