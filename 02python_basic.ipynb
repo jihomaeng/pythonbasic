{
 "cells": [
  {
   "cell_type": "code",
   "execution_count": 2,
   "id": "a620c8ca-5c96-4289-b6fd-90d9184edcd1",
   "metadata": {},
   "outputs": [],
   "source": [
    "#주석 사용하기\n",
    "x = 1 # 여기서 =(등호) 기호는 수학의 같다는 의미와는 다르다. \n",
    "      # ... 우측 변의 리터럴을 좌측 변의 변수에 대입한다는 의미다.\n",
    "    \n",
    "text = \"#이것은 주석이 아닙니다. 따옴표 안은 문자열 리터럴입니다.\""
   ]
  },
  {
   "cell_type": "code",
   "execution_count": 3,
   "id": "88940544-dacf-466e-9320-7e60caf5681a",
   "metadata": {},
   "outputs": [
    {
     "name": "stdout",
     "output_type": "stream",
     "text": [
      "1\n"
     ]
    }
   ],
   "source": [
    "print(x)"
   ]
  },
  {
   "cell_type": "code",
   "execution_count": 4,
   "id": "0779f12a-9ee7-4580-88a6-3bb4fac3a211",
   "metadata": {},
   "outputs": [
    {
     "name": "stdout",
     "output_type": "stream",
     "text": [
      "#이것은 주석이 아닙니다. 따옴표 안은 문자열 리터럴입니다.\n"
     ]
    }
   ],
   "source": [
    "print(text)"
   ]
  },
  {
   "cell_type": "code",
   "execution_count": 5,
   "id": "2c46cf9c-f66d-4b5c-9581-aff27a64d323",
   "metadata": {},
   "outputs": [],
   "source": [
    "a = \"Hello, world!\"\n",
    "b = \"Hello, world!\"\n",
    "c = \"Python Programming\""
   ]
  },
  {
   "cell_type": "code",
   "execution_count": 6,
   "id": "da4b81bb-0081-40ce-920a-cd8027b4fea4",
   "metadata": {},
   "outputs": [
    {
     "name": "stdout",
     "output_type": "stream",
     "text": [
      "Hello, world!\n",
      "Hello, world!\n",
      "Python Programming\n"
     ]
    }
   ],
   "source": [
    "print(a)\n",
    "print(b)\n",
    "print(c)"
   ]
  },
  {
   "cell_type": "code",
   "execution_count": 7,
   "id": "2f7199ac-d6d8-4e5c-bfb4-5b178decfc47",
   "metadata": {},
   "outputs": [
    {
     "name": "stdout",
     "output_type": "stream",
     "text": [
      "Hello, world!\n",
      "Hello, world!\n",
      "Python Programming\n"
     ]
    }
   ],
   "source": [
    "a = \"Hello, world!\"\n",
    "b = \"Hello, world!\"\n",
    "c = \"Python Programming\"\n",
    "print(a)\n",
    "print(b)\n",
    "print(c)"
   ]
  },
  {
   "cell_type": "code",
   "execution_count": 8,
   "id": "588b207d-846e-4bfc-89f7-254f26eada73",
   "metadata": {},
   "outputs": [
    {
     "name": "stdout",
     "output_type": "stream",
     "text": [
      "4\n",
      "1\n",
      "20\n",
      "2.0\n"
     ]
    }
   ],
   "source": [
    "print(2+2)\n",
    "print(3-2)\n",
    "print(4*5)\n",
    "print(4/2)"
   ]
  },
  {
   "cell_type": "code",
   "execution_count": 10,
   "id": "eeb79b9a-3dc2-4307-b5fd-1fb9a6fefb2d",
   "metadata": {},
   "outputs": [
    {
     "name": "stdout",
     "output_type": "stream",
     "text": [
      "89\n",
      "28.2\n"
     ]
    }
   ],
   "source": [
    "print( 13 + (22-3) *4)\n",
    "print( 13 + ((22 - 3)*4)/5)"
   ]
  },
  {
   "cell_type": "code",
   "execution_count": 11,
   "id": "c875d040-ca69-43c3-a5f9-0b975f616bfb",
   "metadata": {},
   "outputs": [
    {
     "data": {
      "text/plain": [
       "3"
      ]
     },
     "execution_count": 11,
     "metadata": {},
     "output_type": "execute_result"
    }
   ],
   "source": [
    "int(3.3)"
   ]
  },
  {
   "cell_type": "code",
   "execution_count": 12,
   "id": "44d1a94b-2740-4286-ae72-6b86c43e45ad",
   "metadata": {},
   "outputs": [
    {
     "data": {
      "text/plain": [
       "2"
      ]
     },
     "execution_count": 12,
     "metadata": {},
     "output_type": "execute_result"
    }
   ],
   "source": [
    "int(5/2)"
   ]
  },
  {
   "cell_type": "code",
   "execution_count": 13,
   "id": "b8bff52b-2427-4391-986a-6fbbc7ef8db7",
   "metadata": {},
   "outputs": [
    {
     "data": {
      "text/plain": [
       "104"
      ]
     },
     "execution_count": 13,
     "metadata": {},
     "output_type": "execute_result"
    }
   ],
   "source": [
    "int('104')"
   ]
  },
  {
   "cell_type": "code",
   "execution_count": 14,
   "id": "080a6eb5-15c7-4f46-ac16-e64555fcdfa5",
   "metadata": {},
   "outputs": [
    {
     "data": {
      "text/plain": [
       "3.0"
      ]
     },
     "execution_count": 14,
     "metadata": {},
     "output_type": "execute_result"
    }
   ],
   "source": [
    "float(3)"
   ]
  },
  {
   "cell_type": "code",
   "execution_count": 15,
   "id": "1f88fc6b-f312-4386-a832-1c06c2311feb",
   "metadata": {},
   "outputs": [
    {
     "data": {
      "text/plain": [
       "16.0"
      ]
     },
     "execution_count": 15,
     "metadata": {},
     "output_type": "execute_result"
    }
   ],
   "source": [
    "float(4*4)"
   ]
  },
  {
   "cell_type": "code",
   "execution_count": 16,
   "id": "403a65cd-13b9-4e50-93b5-18e7d2a7787a",
   "metadata": {},
   "outputs": [
    {
     "data": {
      "text/plain": [
       "3.14"
      ]
     },
     "execution_count": 16,
     "metadata": {},
     "output_type": "execute_result"
    }
   ],
   "source": [
    "float('3.14')"
   ]
  },
  {
   "cell_type": "code",
   "execution_count": 17,
   "id": "05e0e29a-0eec-4a08-89f1-fc622b9a3727",
   "metadata": {},
   "outputs": [
    {
     "ename": "ValueError",
     "evalue": "invalid literal for int() with base 10: '문자열'",
     "output_type": "error",
     "traceback": [
      "\u001b[1;31m---------------------------------------------------------------------------\u001b[0m",
      "\u001b[1;31mValueError\u001b[0m                                Traceback (most recent call last)",
      "\u001b[1;32m~\\AppData\\Local\\Temp\\ipykernel_2844\\3993323336.py\u001b[0m in \u001b[0;36m<module>\u001b[1;34m\u001b[0m\n\u001b[1;32m----> 1\u001b[1;33m \u001b[0mint\u001b[0m\u001b[1;33m(\u001b[0m\u001b[1;34m'문자열'\u001b[0m\u001b[1;33m)\u001b[0m\u001b[1;33m\u001b[0m\u001b[1;33m\u001b[0m\u001b[0m\n\u001b[0m",
      "\u001b[1;31mValueError\u001b[0m: invalid literal for int() with base 10: '문자열'"
     ]
    }
   ],
   "source": [
    "int('문자열')"
   ]
  },
  {
   "cell_type": "code",
   "execution_count": 21,
   "id": "657ff4df-a15b-4bfe-8a04-87902cbf2f20",
   "metadata": {},
   "outputs": [
    {
     "data": {
      "text/plain": [
       "7"
      ]
     },
     "execution_count": 21,
     "metadata": {},
     "output_type": "execute_result"
    }
   ],
   "source": [
    "w = 12\n",
    "int(0.2467 * w + 4.159)"
   ]
  },
  {
   "cell_type": "code",
   "execution_count": 23,
   "id": "90ab5bdc-9718-4bb1-b132-c76cdd9c68cc",
   "metadata": {},
   "outputs": [
    {
     "name": "stdout",
     "output_type": "stream",
     "text": [
      "가장 시끄러운 층은 =  7 층\n"
     ]
    }
   ],
   "source": [
    "print(\"가장 시끄러운 층은 = \" ,int(0.2467 * w + 4.159), \"층\")"
   ]
  },
  {
   "cell_type": "code",
   "execution_count": 25,
   "id": "db504b70-8ade-4c1d-82ec-9e44665bd329",
   "metadata": {},
   "outputs": [
    {
     "name": "stdout",
     "output_type": "stream",
     "text": [
      "냉장고 가격은 1272000 원 입니다.\n"
     ]
    }
   ],
   "source": [
    "print(\"냉장고 가격은\", int(53000*24), \"원 입니다.\")"
   ]
  },
  {
   "cell_type": "code",
   "execution_count": 32,
   "id": "0990a131-b15d-43aa-a23b-2a1b2abc27c4",
   "metadata": {},
   "outputs": [
    {
     "name": "stdout",
     "output_type": "stream",
     "text": [
      "총 지불 해야 할 금액은 16500000.0 원 입니다.\n"
     ]
    }
   ],
   "source": [
    "people = 250\n",
    "tax = 0.1\n",
    "print(\"총 지불 해야 할 금액은\", 20000*(1+tax)*3*people, \"원 입니다.\")"
   ]
  },
  {
   "cell_type": "code",
   "execution_count": 33,
   "id": "64870089-6a39-4d8f-b769-f0435585c4f7",
   "metadata": {},
   "outputs": [
    {
     "data": {
      "text/plain": [
       "12345000000.0"
      ]
     },
     "execution_count": 33,
     "metadata": {},
     "output_type": "execute_result"
    }
   ],
   "source": [
    "1.2345e10"
   ]
  },
  {
   "cell_type": "code",
   "execution_count": 35,
   "id": "a890202c-42bf-4216-9cb1-6914a6084f1b",
   "metadata": {},
   "outputs": [
    {
     "data": {
      "text/plain": [
       "0.0012345"
      ]
     },
     "execution_count": 35,
     "metadata": {},
     "output_type": "execute_result"
    }
   ],
   "source": [
    "1.2345e-3"
   ]
  },
  {
   "cell_type": "code",
   "execution_count": 38,
   "id": "52158555-2807-4b81-8001-b9551452e4bb",
   "metadata": {},
   "outputs": [
    {
     "data": {
      "text/plain": [
       "0.00012345"
      ]
     },
     "execution_count": 38,
     "metadata": {},
     "output_type": "execute_result"
    }
   ],
   "source": [
    "1.2345e-4"
   ]
  },
  {
   "cell_type": "code",
   "execution_count": 39,
   "id": "bc9925f7-6168-45a6-8066-dabdbceec2c6",
   "metadata": {},
   "outputs": [
    {
     "data": {
      "text/plain": [
       "17"
      ]
     },
     "execution_count": 39,
     "metadata": {},
     "output_type": "execute_result"
    }
   ],
   "source": [
    "0b10001"
   ]
  },
  {
   "cell_type": "code",
   "execution_count": 40,
   "id": "f565ff9d-11f9-4090-aa5a-063cd7f67b84",
   "metadata": {},
   "outputs": [
    {
     "data": {
      "text/plain": [
       "'0b10001'"
      ]
     },
     "execution_count": 40,
     "metadata": {},
     "output_type": "execute_result"
    }
   ],
   "source": [
    "bin(17)"
   ]
  },
  {
   "cell_type": "code",
   "execution_count": 44,
   "id": "ce2b7024-f37d-4f54-a889-f54bace7a7c9",
   "metadata": {},
   "outputs": [
    {
     "data": {
      "text/plain": [
       "22"
      ]
     },
     "execution_count": 44,
     "metadata": {},
     "output_type": "execute_result"
    }
   ],
   "source": [
    "0b10110"
   ]
  },
  {
   "cell_type": "code",
   "execution_count": 42,
   "id": "ff75aeec-c179-4dac-aee2-ab9a4b2382ef",
   "metadata": {},
   "outputs": [
    {
     "data": {
      "text/plain": [
       "'0b10110'"
      ]
     },
     "execution_count": 42,
     "metadata": {},
     "output_type": "execute_result"
    }
   ],
   "source": [
    "bin(22)"
   ]
  },
  {
   "cell_type": "code",
   "execution_count": 45,
   "id": "32555d71-2d8b-43a3-83cb-586b29a416cb",
   "metadata": {},
   "outputs": [
    {
     "data": {
      "text/plain": [
       "17"
      ]
     },
     "execution_count": 45,
     "metadata": {},
     "output_type": "execute_result"
    }
   ],
   "source": [
    "0b10001"
   ]
  },
  {
   "cell_type": "code",
   "execution_count": 46,
   "id": "348bae0a-ba6b-46c2-8706-f0ecb00b2e97",
   "metadata": {},
   "outputs": [
    {
     "data": {
      "text/plain": [
       "17"
      ]
     },
     "execution_count": 46,
     "metadata": {},
     "output_type": "execute_result"
    }
   ],
   "source": [
    "0o21"
   ]
  },
  {
   "cell_type": "code",
   "execution_count": 47,
   "id": "1a609293-1760-4c80-81e9-7da6d9a83bc2",
   "metadata": {},
   "outputs": [
    {
     "data": {
      "text/plain": [
       "'0o21'"
      ]
     },
     "execution_count": 47,
     "metadata": {},
     "output_type": "execute_result"
    }
   ],
   "source": [
    "oct(17)"
   ]
  },
  {
   "cell_type": "code",
   "execution_count": 48,
   "id": "291b93f9-9d3c-4313-aee6-0af3f189282a",
   "metadata": {},
   "outputs": [
    {
     "data": {
      "text/plain": [
       "'0o26'"
      ]
     },
     "execution_count": 48,
     "metadata": {},
     "output_type": "execute_result"
    }
   ],
   "source": [
    "oct(22)"
   ]
  },
  {
   "cell_type": "code",
   "execution_count": 49,
   "id": "c455cdbf-daeb-4a70-8b8e-5c2130e74c0c",
   "metadata": {},
   "outputs": [
    {
     "data": {
      "text/plain": [
       "22"
      ]
     },
     "execution_count": 49,
     "metadata": {},
     "output_type": "execute_result"
    }
   ],
   "source": [
    "0o26"
   ]
  },
  {
   "cell_type": "code",
   "execution_count": 50,
   "id": "e7901d72-84fc-4424-9198-5a883520fe17",
   "metadata": {},
   "outputs": [
    {
     "data": {
      "text/plain": [
       "31"
      ]
     },
     "execution_count": 50,
     "metadata": {},
     "output_type": "execute_result"
    }
   ],
   "source": [
    "0x1f"
   ]
  },
  {
   "cell_type": "code",
   "execution_count": 51,
   "id": "652b772c-e82b-4598-a778-d9fd16ddfbd2",
   "metadata": {},
   "outputs": [
    {
     "data": {
      "text/plain": [
       "22"
      ]
     },
     "execution_count": 51,
     "metadata": {},
     "output_type": "execute_result"
    }
   ],
   "source": [
    "0x16"
   ]
  },
  {
   "cell_type": "code",
   "execution_count": 52,
   "id": "81e2f9a0-465e-4010-861b-e30a6aa26cb3",
   "metadata": {},
   "outputs": [
    {
     "data": {
      "text/plain": [
       "'0x1f'"
      ]
     },
     "execution_count": 52,
     "metadata": {},
     "output_type": "execute_result"
    }
   ],
   "source": [
    "hex(31)"
   ]
  },
  {
   "cell_type": "code",
   "execution_count": 53,
   "id": "83272c1f-da46-40b5-aee6-d62e5371df2a",
   "metadata": {},
   "outputs": [
    {
     "data": {
      "text/plain": [
       "'0x16'"
      ]
     },
     "execution_count": 53,
     "metadata": {},
     "output_type": "execute_result"
    }
   ],
   "source": [
    "hex(22)"
   ]
  },
  {
   "cell_type": "code",
   "execution_count": 55,
   "id": "cad22d1f-f548-40ae-9f56-0299d3732cc8",
   "metadata": {},
   "outputs": [
    {
     "name": "stdout",
     "output_type": "stream",
     "text": [
      "453.0\n"
     ]
    }
   ],
   "source": [
    "ap = 380\n",
    "print(ap * 0.6 + 225)"
   ]
  },
  {
   "cell_type": "code",
   "execution_count": 59,
   "id": "9da1b49b-21b5-4633-b18f-34d2ddd0e0db",
   "metadata": {},
   "outputs": [
    {
     "name": "stdout",
     "output_type": "stream",
     "text": [
      "30\n"
     ]
    }
   ],
   "source": [
    "# a 변수 선언 후 숫자 리터럴 10 값을 할당\n",
    "a = 10\n",
    "a = a + 20\n",
    "\n",
    "# a 변수 값에 20을 더한 결과를 다시 a에 할당\n",
    "print(a)"
   ]
  },
  {
   "cell_type": "code",
   "execution_count": 60,
   "id": "e982b286-0471-430a-afb9-5c83bc50eba2",
   "metadata": {},
   "outputs": [],
   "source": [
    "# a 변수 삭제 후 a 변수를 출력해보기\n",
    "del a"
   ]
  },
  {
   "cell_type": "code",
   "execution_count": 58,
   "id": "8dc216a2-aca1-4cbf-b7b3-805ed14b57e7",
   "metadata": {},
   "outputs": [
    {
     "ename": "NameError",
     "evalue": "name 'a' is not defined",
     "output_type": "error",
     "traceback": [
      "\u001b[1;31m---------------------------------------------------------------------------\u001b[0m",
      "\u001b[1;31mNameError\u001b[0m                                 Traceback (most recent call last)",
      "\u001b[1;32m~\\AppData\\Local\\Temp\\ipykernel_2844\\1189138062.py\u001b[0m in \u001b[0;36m<module>\u001b[1;34m\u001b[0m\n\u001b[1;32m----> 1\u001b[1;33m \u001b[0mprint\u001b[0m\u001b[1;33m(\u001b[0m\u001b[0ma\u001b[0m\u001b[1;33m)\u001b[0m\u001b[1;33m\u001b[0m\u001b[1;33m\u001b[0m\u001b[0m\n\u001b[0m",
      "\u001b[1;31mNameError\u001b[0m: name 'a' is not defined"
     ]
    }
   ],
   "source": [
    "print(a)"
   ]
  },
  {
   "cell_type": "code",
   "execution_count": 63,
   "id": "ecdfaa3e-0667-4c8b-92bc-dd4b2a0152eb",
   "metadata": {},
   "outputs": [
    {
     "name": "stdout",
     "output_type": "stream",
     "text": [
      "10\n",
      "20\n"
     ]
    }
   ],
   "source": [
    "a = 10\n",
    "\n",
    "# 변수 a에 20 값을 더하고 할당하지 않았을 때\n",
    "a + 20\n",
    "print(a)\n",
    "\n",
    "#a = a+10과 같다.\n",
    "a += 10\n",
    "print(a)"
   ]
  },
  {
   "cell_type": "code",
   "execution_count": 64,
   "id": "aa97e92e-e9fe-40ae-8630-3812a0026f66",
   "metadata": {},
   "outputs": [
    {
     "name": "stdout",
     "output_type": "stream",
     "text": [
      "None\n"
     ]
    }
   ],
   "source": [
    "a = None\n",
    "print(a)"
   ]
  },
  {
   "cell_type": "code",
   "execution_count": 65,
   "id": "a8b223c8-ac1d-443d-aff5-cf1946bf8a49",
   "metadata": {},
   "outputs": [
    {
     "data": {
      "text/plain": [
       "bool"
      ]
     },
     "execution_count": 65,
     "metadata": {},
     "output_type": "execute_result"
    }
   ],
   "source": [
    "type(True)"
   ]
  },
  {
   "cell_type": "code",
   "execution_count": 66,
   "id": "7879de48-131f-49cd-a577-5efc81ae8d38",
   "metadata": {},
   "outputs": [
    {
     "ename": "NameError",
     "evalue": "name 'true' is not defined",
     "output_type": "error",
     "traceback": [
      "\u001b[1;31m---------------------------------------------------------------------------\u001b[0m",
      "\u001b[1;31mNameError\u001b[0m                                 Traceback (most recent call last)",
      "\u001b[1;32m~\\AppData\\Local\\Temp\\ipykernel_2844\\1822790664.py\u001b[0m in \u001b[0;36m<module>\u001b[1;34m\u001b[0m\n\u001b[1;32m----> 1\u001b[1;33m \u001b[0mtype\u001b[0m\u001b[1;33m(\u001b[0m\u001b[0mtrue\u001b[0m\u001b[1;33m)\u001b[0m\u001b[1;33m\u001b[0m\u001b[1;33m\u001b[0m\u001b[0m\n\u001b[0m",
      "\u001b[1;31mNameError\u001b[0m: name 'true' is not defined"
     ]
    }
   ],
   "source": [
    "type(true)"
   ]
  },
  {
   "cell_type": "code",
   "execution_count": 67,
   "id": "ae86282e-36ea-43c4-bfce-e6e264ae0884",
   "metadata": {},
   "outputs": [
    {
     "name": "stdout",
     "output_type": "stream",
     "text": [
      "이것은 문자열입니다.\n",
      "이것은 문자열입니다.\n",
      "<class 'str'>\n",
      "<class 'str'>\n"
     ]
    }
   ],
   "source": [
    "text = '이것은 문자열입니다.'\n",
    "text2 = \"이것은 문자열입니다.\"\n",
    "\n",
    "print(text)\n",
    "print(text2)\n",
    "\n",
    "print(type(text))\n",
    "print(type(text2))"
   ]
  },
  {
   "cell_type": "code",
   "execution_count": 68,
   "id": "7ca0af7a-a625-4723-a6f5-2f2d0bd437f8",
   "metadata": {},
   "outputs": [
    {
     "name": "stdout",
     "output_type": "stream",
     "text": [
      "don't do that\n",
      "don't do that\n"
     ]
    }
   ],
   "source": [
    "text3 = 'don\\'t do that'\n",
    "text4 = \"don't do that\"\n",
    "\n",
    "print(text3)\n",
    "print(text4)"
   ]
  },
  {
   "cell_type": "code",
   "execution_count": 70,
   "id": "4db7b4c5-6dbd-424d-a2d6-e72c4b405593",
   "metadata": {},
   "outputs": [
    {
     "name": "stdout",
     "output_type": "stream",
     "text": [
      "\"안녕?\"이라는 그 인사를 듣고 나는'누구지?'라고 생각했다.\n"
     ]
    }
   ],
   "source": [
    "print(\"\\\"안녕?\\\"이라는 그 인사를 듣고 나는\\'누구지?\\'라고 생각했다.\")"
   ]
  },
  {
   "cell_type": "code",
   "execution_count": 72,
   "id": "a595887a-5ce3-4428-b1f7-75b86f52c997",
   "metadata": {},
   "outputs": [],
   "source": [
    "s = 'First line.\\nSecond line.'"
   ]
  },
  {
   "cell_type": "code",
   "execution_count": 73,
   "id": "fe14a7bd-0529-48d3-9184-53e2a7ee33ab",
   "metadata": {},
   "outputs": [
    {
     "name": "stdout",
     "output_type": "stream",
     "text": [
      "First line.\n",
      "Second line.\n"
     ]
    }
   ],
   "source": [
    "print(s)"
   ]
  },
  {
   "cell_type": "code",
   "execution_count": 74,
   "id": "acea45e0-e7d0-4621-913e-b4c4d98a6152",
   "metadata": {},
   "outputs": [
    {
     "name": "stdout",
     "output_type": "stream",
     "text": [
      "c:\\name\n",
      "c:\\\\name\n"
     ]
    }
   ],
   "source": [
    "s = r'c:\\name'\n",
    "s1 = r'c:\\\\name'\n",
    "\n",
    "print(s)\n",
    "print(s1)"
   ]
  },
  {
   "cell_type": "code",
   "execution_count": 75,
   "id": "9a1e27b2-1627-4a8e-a7af-453993d8f829",
   "metadata": {},
   "outputs": [
    {
     "name": "stdout",
     "output_type": "stream",
     "text": [
      "c:\n",
      "ame\n"
     ]
    }
   ],
   "source": [
    "s2 = 'c:\\name'\n",
    "print(s2)"
   ]
  },
  {
   "cell_type": "code",
   "execution_count": 76,
   "id": "08b62e4b-cfc8-4466-9f97-a32e671a4b34",
   "metadata": {},
   "outputs": [
    {
     "name": "stdout",
     "output_type": "stream",
     "text": [
      "\n",
      "안녕하세요.\n",
      "나는 파이썬을 공부하고 있습니다.\n",
      "반갑습니다.\n",
      "\n"
     ]
    }
   ],
   "source": [
    "s3 = \"\"\"\n",
    "안녕하세요.\n",
    "나는 파이썬을 공부하고 있습니다.\n",
    "반갑습니다.\n",
    "\"\"\"\n",
    "\n",
    "print(s3)"
   ]
  },
  {
   "cell_type": "code",
   "execution_count": 77,
   "id": "fe4716aa-b914-427d-9b4e-999702198541",
   "metadata": {},
   "outputs": [
    {
     "name": "stdout",
     "output_type": "stream",
     "text": [
      "안녕하세요.\n",
      "나는 파이썬을 공부하고 있습니다.\n",
      "반갑습니다.\n",
      "\n"
     ]
    }
   ],
   "source": [
    "s4 = \"\"\"\\\n",
    "안녕하세요.\n",
    "나는 파이썬을 공부하고 있습니다.\n",
    "반갑습니다.\n",
    "\"\"\"\n",
    "\n",
    "print(s4)"
   ]
  },
  {
   "cell_type": "code",
   "execution_count": 85,
   "id": "e92e6cc8-acd3-4eef-8464-25c468bdf8c1",
   "metadata": {},
   "outputs": [
    {
     "name": "stdout",
     "output_type": "stream",
     "text": [
      "안녕하세요.\n",
      "나는 파이썬을 공부하고 있습니다.\n",
      "반갑습니다.\n",
      "\"\n"
     ]
    }
   ],
   "source": [
    "s5 = \"\"\"\\\n",
    "안녕하세요.\n",
    "나는 파이썬을 공부하고 있습니다.\n",
    "반갑습니다.\\\n",
    "\"\"\"\n",
    "print(s5)"
   ]
  },
  {
   "cell_type": "code",
   "execution_count": 89,
   "id": "7d9bc960-95d3-4914-ab52-462e84ec0ab7",
   "metadata": {},
   "outputs": [
    {
     "name": "stdout",
     "output_type": "stream",
     "text": [
      "\"안녕하세요\"\n",
      "나는 파이썬을 공부하고 있습니다.\n",
      "반갑습니다.\n"
     ]
    }
   ],
   "source": [
    "#삼중 따옴표 안에서는 따옴표 그냥 써도 상관이 없다.\n",
    "s6 = \"\"\"\\\n",
    "\"안녕하세요\"\n",
    "나는 파이썬을 공부하고 있습니다.\n",
    "반갑습니다.\\\n",
    "\"\"\"\n",
    "print(s6)"
   ]
  },
  {
   "cell_type": "code",
   "execution_count": 90,
   "id": "22b34ad7-cb1e-40f3-9c2e-f0770193c0fb",
   "metadata": {},
   "outputs": [
    {
     "name": "stdout",
     "output_type": "stream",
     "text": [
      "너무 너무 너무 너무 너무 너무 너무 파이썬 공부가 즐겁습니다.\n"
     ]
    }
   ],
   "source": [
    "s7 = \"\"\"\\\n",
    "너무 너무 너무 너무 너무 너무 너무 파이썬 공부가 즐겁습니다.\\\n",
    "\"\"\"\n",
    "\n",
    "print(s7)"
   ]
  },
  {
   "cell_type": "code",
   "execution_count": 91,
   "id": "f5d3cd4d-74d9-44a9-828d-646957ff2d78",
   "metadata": {},
   "outputs": [
    {
     "name": "stdout",
     "output_type": "stream",
     "text": [
      "너무 너무 너무 너무 너무 너무 너무 파이썬 공부가 즐겁습니다.\n"
     ]
    }
   ],
   "source": [
    "print(\"너무 너무 너무 너무 너무 너무 너무 파이썬 공부가 즐겁습니다.\")"
   ]
  },
  {
   "cell_type": "code",
   "execution_count": 93,
   "id": "8ccfff5c-6a39-4aef-a142-a3fca165aef5",
   "metadata": {},
   "outputs": [
    {
     "name": "stdout",
     "output_type": "stream",
     "text": [
      "너무 너무 너무 너무 너무 너무 너무 너무 너무 너무 너무 너무 너무 너무 너무 너무 너무 너무 너무 너무 너무 너무 너무 너무 너무 너무 너무 너무 너무 너무 너무 너무 너무 너무 너무 너무 너무 너무 너무 너무 너무 너무 너무 너무 너무 너무 너무 너무 너무 너무 너무 너무 너무 너무 너무 너무 너무 너무 너무 너무 너무 너무 너무 너무 너무 너무 너무 너무 너무 너무 너무 너무 너무 너무 너무 너무 너무 너무 너무 너무 너무 너무 너무 너무 너무 너무 너무 너무 너무 너무 너무 너무 너무 너무 너무 너무 너무 너무 너무 너무 파이썬 공부가 즐겁습니다.\n"
     ]
    }
   ],
   "source": [
    "s8 = \"너무 \" * 100 + \"파이썬 공부가 즐겁습니다.\"\n",
    "print(s8)"
   ]
  },
  {
   "cell_type": "code",
   "execution_count": 94,
   "id": "38d13431-368f-434c-ba85-aa4389bc16e4",
   "metadata": {},
   "outputs": [],
   "source": [
    "del s"
   ]
  },
  {
   "cell_type": "code",
   "execution_count": 99,
   "id": "afcda3cb-7968-40bb-90dd-9a0630e43b24",
   "metadata": {},
   "outputs": [
    {
     "name": "stdout",
     "output_type": "stream",
     "text": [
      "너무 너무 너무 너무 너무 너무 너무 너무 너무 너무 파이썬 공부가 즐겁습니다.\n"
     ]
    }
   ],
   "source": [
    "s = \"너무 \" * 10\n",
    "print(s + \"파이썬 공부가 즐겁습니다.\")"
   ]
  },
  {
   "cell_type": "code",
   "execution_count": 105,
   "id": "5e91f366-98f1-4e4e-a440-fdc3fccc1f8a",
   "metadata": {},
   "outputs": [
    {
     "name": "stdout",
     "output_type": "stream",
     "text": [
      "P\n",
      "n\n",
      "n\n",
      "P\n"
     ]
    }
   ],
   "source": [
    "word = 'Python'\n",
    "#인덱스는 0부터 시작된다.\n",
    "print(word[0])\n",
    "print(word[5])\n",
    "\n",
    "#음수는 뒤에서부터 시작\n",
    "print(word[-1])\n",
    "print(word[-6])"
   ]
  },
  {
   "cell_type": "code",
   "execution_count": 102,
   "id": "d95b878b-c4a5-4087-837a-29b56938b043",
   "metadata": {},
   "outputs": [
    {
     "ename": "IndexError",
     "evalue": "string index out of range",
     "output_type": "error",
     "traceback": [
      "\u001b[1;31m---------------------------------------------------------------------------\u001b[0m",
      "\u001b[1;31mIndexError\u001b[0m                                Traceback (most recent call last)",
      "\u001b[1;32m~\\AppData\\Local\\Temp\\ipykernel_2844\\1836587685.py\u001b[0m in \u001b[0;36m<module>\u001b[1;34m\u001b[0m\n\u001b[1;32m----> 1\u001b[1;33m \u001b[0mprint\u001b[0m\u001b[1;33m(\u001b[0m\u001b[0mword\u001b[0m\u001b[1;33m[\u001b[0m\u001b[1;36m6\u001b[0m\u001b[1;33m]\u001b[0m\u001b[1;33m)\u001b[0m\u001b[1;33m\u001b[0m\u001b[1;33m\u001b[0m\u001b[0m\n\u001b[0m",
      "\u001b[1;31mIndexError\u001b[0m: string index out of range"
     ]
    }
   ],
   "source": [
    "print(word[6])"
   ]
  },
  {
   "cell_type": "code",
   "execution_count": 104,
   "id": "e25f685d-73d2-4d81-933a-cc3da1405ef0",
   "metadata": {},
   "outputs": [
    {
     "name": "stdout",
     "output_type": "stream",
     "text": [
      "꺾\n"
     ]
    }
   ],
   "source": [
    "sentence = \"중요한 것은 꺾이지 않는 마음\"\n",
    "print(sentence[7])"
   ]
  },
  {
   "cell_type": "code",
   "execution_count": 106,
   "id": "c5be1ed1-ff2f-4680-a57b-d2433330a719",
   "metadata": {},
   "outputs": [
    {
     "name": "stdout",
     "output_type": "stream",
     "text": [
      "Py\n"
     ]
    }
   ],
   "source": [
    "print(word[0:2])"
   ]
  },
  {
   "cell_type": "code",
   "execution_count": 108,
   "id": "aaf69773-8d28-453b-a332-865f3734fb34",
   "metadata": {},
   "outputs": [
    {
     "name": "stdout",
     "output_type": "stream",
     "text": [
      "Py\n",
      "Py\n",
      "on\n",
      "on\n",
      "on\n",
      "yt\n"
     ]
    }
   ],
   "source": [
    "print(word[:2])\n",
    "print(word[:-4])\n",
    "print(word[4:6])\n",
    "print(word[4:])\n",
    "print(word[-2:])\n",
    "print(word[1:3])"
   ]
  },
  {
   "cell_type": "code",
   "execution_count": 109,
   "id": "de39e4d6-01f7-4d78-97ea-5a2b5bd1a482",
   "metadata": {},
   "outputs": [
    {
     "name": "stdout",
     "output_type": "stream",
     "text": [
      "Pto\n"
     ]
    }
   ],
   "source": [
    "print(word[::2])"
   ]
  },
  {
   "cell_type": "code",
   "execution_count": 110,
   "id": "29ab3b58-a18d-45f2-9a2e-91a31a973f04",
   "metadata": {},
   "outputs": [
    {
     "name": "stdout",
     "output_type": "stream",
     "text": [
      "\n"
     ]
    }
   ],
   "source": [
    "print(sentence[42:])"
   ]
  },
  {
   "cell_type": "code",
   "execution_count": 111,
   "id": "4936d2fc-dba1-40d4-9442-2ac3c59ac457",
   "metadata": {},
   "outputs": [
    {
     "name": "stdout",
     "output_type": "stream",
     "text": [
      "한 것은 꺾이지 않는 마음\n"
     ]
    }
   ],
   "source": [
    "print(sentence[2:42])"
   ]
  },
  {
   "cell_type": "code",
   "execution_count": 113,
   "id": "909a9969-edcb-4e3c-b9b1-58374a43a31c",
   "metadata": {},
   "outputs": [
    {
     "name": "stdout",
     "output_type": "stream",
     "text": [
      "꺾이지 않는 마음\n"
     ]
    }
   ],
   "source": [
    "print(sentence[7:])"
   ]
  },
  {
   "cell_type": "code",
   "execution_count": 122,
   "id": "ef122541-d55a-4b73-adc5-76418da0d145",
   "metadata": {},
   "outputs": [
    {
     "name": "stdout",
     "output_type": "stream",
     "text": [
      "한요중\n"
     ]
    }
   ],
   "source": [
    "print(sentence[-14]+sentence[-15]+sentence[-16])"
   ]
  },
  {
   "cell_type": "code",
   "execution_count": 124,
   "id": "7c8e88ae-5f11-45fb-b2c7-ceeb8c1da481",
   "metadata": {},
   "outputs": [
    {
     "name": "stdout",
     "output_type": "stream",
     "text": [
      "한요중\n"
     ]
    }
   ],
   "source": [
    "print(sentence[-14::-1])"
   ]
  },
  {
   "cell_type": "code",
   "execution_count": 125,
   "id": "1f11c369-1194-429e-88c7-bb00522a225e",
   "metadata": {},
   "outputs": [
    {
     "name": "stdout",
     "output_type": "stream",
     "text": [
      "한요중\n"
     ]
    }
   ],
   "source": [
    "print(sentence[2::-1])"
   ]
  },
  {
   "cell_type": "code",
   "execution_count": 126,
   "id": "9238891b-b4d3-45fb-985c-4e2c54f59f44",
   "metadata": {},
   "outputs": [
    {
     "ename": "TypeError",
     "evalue": "'str' object does not support item assignment",
     "output_type": "error",
     "traceback": [
      "\u001b[1;31m---------------------------------------------------------------------------\u001b[0m",
      "\u001b[1;31mTypeError\u001b[0m                                 Traceback (most recent call last)",
      "\u001b[1;32m~\\AppData\\Local\\Temp\\ipykernel_2844\\3267137091.py\u001b[0m in \u001b[0;36m<module>\u001b[1;34m\u001b[0m\n\u001b[1;32m----> 1\u001b[1;33m \u001b[0msentence\u001b[0m\u001b[1;33m[\u001b[0m\u001b[1;36m0\u001b[0m\u001b[1;33m]\u001b[0m \u001b[1;33m=\u001b[0m \u001b[1;34m'한'\u001b[0m\u001b[1;33m\u001b[0m\u001b[1;33m\u001b[0m\u001b[0m\n\u001b[0m",
      "\u001b[1;31mTypeError\u001b[0m: 'str' object does not support item assignment"
     ]
    }
   ],
   "source": [
    "#문자열 불변의 sequence\n",
    "sentence[0] = '한' "
   ]
  },
  {
   "cell_type": "code",
   "execution_count": 127,
   "id": "ee162bea-e369-4492-ac1c-967c5dbcff48",
   "metadata": {},
   "outputs": [
    {
     "ename": "TypeError",
     "evalue": "'str' object does not support item assignment",
     "output_type": "error",
     "traceback": [
      "\u001b[1;31m---------------------------------------------------------------------------\u001b[0m",
      "\u001b[1;31mTypeError\u001b[0m                                 Traceback (most recent call last)",
      "\u001b[1;32m~\\AppData\\Local\\Temp\\ipykernel_2844\\2516933520.py\u001b[0m in \u001b[0;36m<module>\u001b[1;34m\u001b[0m\n\u001b[1;32m----> 1\u001b[1;33m \u001b[0msentence\u001b[0m\u001b[1;33m[\u001b[0m\u001b[1;36m0\u001b[0m\u001b[1;33m:\u001b[0m\u001b[1;36m3\u001b[0m\u001b[1;33m]\u001b[0m \u001b[1;33m=\u001b[0m \u001b[1;34m'대단한'\u001b[0m\u001b[1;33m\u001b[0m\u001b[1;33m\u001b[0m\u001b[0m\n\u001b[0m",
      "\u001b[1;31mTypeError\u001b[0m: 'str' object does not support item assignment"
     ]
    }
   ],
   "source": [
    "sentence[0:3] = '대단한'"
   ]
  },
  {
   "cell_type": "code",
   "execution_count": 128,
   "id": "bf525e29-ec0c-4b88-bb82-add72d6463db",
   "metadata": {},
   "outputs": [
    {
     "name": "stdout",
     "output_type": "stream",
     "text": [
      "대단한 것은 꺾이지 않는 마음\n"
     ]
    }
   ],
   "source": [
    "#문자열을 변경하고 싶을 때\n",
    "sentence = '대단한' + sentence[3:]\n",
    "print(sentence)"
   ]
  },
  {
   "cell_type": "code",
   "execution_count": 129,
   "id": "537b447c-4e72-446f-8f35-e5bedd3813e0",
   "metadata": {},
   "outputs": [
    {
     "name": "stdout",
     "output_type": "stream",
     "text": [
      "재밌어요재밌어요재밌어요재밌어요재밌어요재밌어요재밌어요재밌어요재밌어요재밌어요\n",
      "40\n"
     ]
    }
   ],
   "source": [
    "s7 = '재밌어요' * 10 \n",
    "print(s7)\n",
    "print(len(s7))"
   ]
  },
  {
   "cell_type": "code",
   "execution_count": 130,
   "id": "09cfac5d-f813-42dd-8a08-eaef98fe6ce4",
   "metadata": {},
   "outputs": [
    {
     "name": "stdout",
     "output_type": "stream",
     "text": [
      "[1, 4, 9, 16, 25]\n"
     ]
    }
   ],
   "source": [
    "squares = [1**2, 2**2, 3**2, 4**2, 5**2]\n",
    "print(squares)"
   ]
  },
  {
   "cell_type": "code",
   "execution_count": 133,
   "id": "b91a062b-7fe0-4157-ab83-e2bda74748ed",
   "metadata": {},
   "outputs": [
    {
     "name": "stdout",
     "output_type": "stream",
     "text": [
      "1\n",
      "25\n",
      "[9, 16, 25]\n"
     ]
    }
   ],
   "source": [
    "#인덱싱을 통해 해당하는 항목(item)을 반환(return)받음\n",
    "print(squares[0])\n",
    "print(squares[-1])\n",
    "#슬라이싱을 통해 해당하는 항목(item)을 반환(return)받음\n",
    "print(squares[-3:]) # 뒤에서 부터 세번째부터 끝까지"
   ]
  },
  {
   "cell_type": "code",
   "execution_count": 134,
   "id": "dba69fd3-2403-4890-8fcb-3e5766ee428f",
   "metadata": {},
   "outputs": [
    {
     "name": "stdout",
     "output_type": "stream",
     "text": [
      "[1, 4, 9, 16, 25, 36, 49, 64, 81, 100]\n"
     ]
    }
   ],
   "source": [
    "#+통해 이어붙일 수 있음\n",
    "print(squares + [36, 49, 64, 81, 100]) "
   ]
  },
  {
   "cell_type": "code",
   "execution_count": 136,
   "id": "d6c5ef9d-9147-4736-880c-1941bd821940",
   "metadata": {},
   "outputs": [
    {
     "name": "stdout",
     "output_type": "stream",
     "text": [
      "['a', 'b', 'c', 'd', 'e', 'a', 'b', 'c', 'd', 'e', 'a', 'b', 'c', 'd', 'e']\n"
     ]
    }
   ],
   "source": [
    "#리스트는 곱하기를 통해 요소 반복 가능\n",
    "letters = ['a', 'b', 'c', 'd', 'e']\n",
    "print(letters * 3)"
   ]
  },
  {
   "cell_type": "code",
   "execution_count": 137,
   "id": "fdaa7c0a-e42e-4aae-b0cd-c18737e7b79e",
   "metadata": {},
   "outputs": [
    {
     "name": "stdout",
     "output_type": "stream",
     "text": [
      "[1, 8, 27, 64, 125]\n"
     ]
    }
   ],
   "source": [
    "#리스트는 가변(mutable)입니다. 즉 내용을 변경할 수 있다.\n",
    "cubes = [1, 8, 27, 65, 125]\n",
    "cubes[3] = 4**3 #인덱싱을 통해 해당 값을 변경\n",
    "print(cubes)"
   ]
  },
  {
   "cell_type": "code",
   "execution_count": 138,
   "id": "a87b7a0c-664f-471c-a567-25b147734909",
   "metadata": {},
   "outputs": [
    {
     "name": "stdout",
     "output_type": "stream",
     "text": [
      "['a', 'b', 'C', 'D', 'E']\n"
     ]
    }
   ],
   "source": [
    "#슬라이싱을 통해 값을 변경할 떄는 크기를 맞춰야한다.\n",
    "letters[2:5] = ['C', 'D', 'E']\n",
    "print(letters)"
   ]
  },
  {
   "cell_type": "code",
   "execution_count": 139,
   "id": "6c8ed17c-7e6e-4d72-9268-fb4ae7abec0c",
   "metadata": {},
   "outputs": [
    {
     "name": "stdout",
     "output_type": "stream",
     "text": [
      "5\n"
     ]
    }
   ],
   "source": [
    "print(len(letters))"
   ]
  },
  {
   "cell_type": "code",
   "execution_count": 141,
   "id": "5dd32d70-af8f-431a-b560-2e8e3aec051a",
   "metadata": {},
   "outputs": [
    {
     "name": "stdout",
     "output_type": "stream",
     "text": [
      "[['a', 'b', 'c'], [1, 2, 3]]\n"
     ]
    }
   ],
   "source": [
    "a = ['a', 'b', 'c']\n",
    "n = [1, 2, 3]\n",
    "x  = [a, n]\n",
    "print(x)"
   ]
  },
  {
   "cell_type": "code",
   "execution_count": 142,
   "id": "6364682b-ece1-463e-9eca-bcc391593eda",
   "metadata": {},
   "outputs": [
    {
     "name": "stdout",
     "output_type": "stream",
     "text": [
      "['a', 'b', 'c']\n"
     ]
    }
   ],
   "source": [
    "print(x[0])"
   ]
  },
  {
   "cell_type": "code",
   "execution_count": 143,
   "id": "d7303baa-4448-4417-85ce-339b75debeef",
   "metadata": {},
   "outputs": [
    {
     "name": "stdout",
     "output_type": "stream",
     "text": [
      "b\n"
     ]
    }
   ],
   "source": [
    "print(x[0][1])"
   ]
  },
  {
   "cell_type": "code",
   "execution_count": 146,
   "id": "fdc1c0c3-eef0-4969-bf1f-a765bd7c4c8b",
   "metadata": {},
   "outputs": [
    {
     "name": "stdout",
     "output_type": "stream",
     "text": [
      "True\n",
      "False\n"
     ]
    }
   ],
   "source": [
    "#리스트에 특정 요소가 있는 지 궁금할 때 in을 사용하여 있는지 여부 확인\n",
    "numbers = [1, 2, 3, 4, 5, 6, 7,]\n",
    "print(5 in numbers)\n",
    "print(10 in numbers)"
   ]
  }
 ],
 "metadata": {
  "kernelspec": {
   "display_name": "Python 3 (ipykernel)",
   "language": "python",
   "name": "python3"
  },
  "language_info": {
   "codemirror_mode": {
    "name": "ipython",
    "version": 3
   },
   "file_extension": ".py",
   "mimetype": "text/x-python",
   "name": "python",
   "nbconvert_exporter": "python",
   "pygments_lexer": "ipython3",
   "version": "3.9.13"
  }
 },
 "nbformat": 4,
 "nbformat_minor": 5
}
