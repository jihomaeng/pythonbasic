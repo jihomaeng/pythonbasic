{
 "cells": [
  {
   "cell_type": "markdown",
   "id": "f7284b2f-45e8-4b26-bf51-2800b29c6e7c",
   "metadata": {},
   "source": [
    "# 2023.01.05 - Markdown"
   ]
  },
  {
   "cell_type": "markdown",
   "id": "2da7b849-cb1a-46e6-99e4-6d81a9235be4",
   "metadata": {},
   "source": [
    "## 1. Markdown 학습"
   ]
  },
  {
   "cell_type": "markdown",
   "id": "16b68eda-986b-49ef-aea6-03113c062237",
   "metadata": {},
   "source": [
    "### \"#\"의 개수에 따라 글자 크기 달라진다."
   ]
  },
  {
   "cell_type": "markdown",
   "id": "92c90e9d-7276-435f-b915-fcc42b830386",
   "metadata": {},
   "source": [
    "# H1\n",
    "## H2\n",
    "### H3\n",
    "#### H4\n",
    "##### H5"
   ]
  },
  {
   "cell_type": "markdown",
   "id": "54495330-9b00-4ed1-bb34-68f74253efe9",
   "metadata": {},
   "source": [
    "# 1.1 텍스트 쓰는 방법"
   ]
  },
  {
   "cell_type": "markdown",
   "id": "4bcda1d8-3b9f-4c23-a565-66c9163cc892",
   "metadata": {},
   "source": [
    "일반 텍스트는 그냥 이렇게 입력  \n",
    "**굵은 글씨** 이렇게 사용  \n",
    "*기울인 글씨*는 이렇게 사용  \n",
    "~~취소선은~~ 이렇게 사용"
   ]
  },
  {
   "cell_type": "markdown",
   "id": "c03e91f0-41cb-4427-b4c7-0b836f6a0915",
   "metadata": {},
   "source": [
    "> 구획이  \n",
    "> 잡힌  \n",
    "> 글입니다."
   ]
  },
  {
   "cell_type": "markdown",
   "id": "66993bbd-b3b6-484b-9275-f04be24bac61",
   "metadata": {},
   "source": [
    "- 목록1  \n",
    "- 목록2  \n",
    "- 목록3  "
   ]
  },
  {
   "cell_type": "markdown",
   "id": "c547bdf4-8ecc-48b0-93dd-b67681302f1d",
   "metadata": {},
   "source": [
    "1. 순서가 있는 목록1  \n",
    "2. 순서가 있는 목록2  \n",
    "3. 순서가 있는 목록3"
   ]
  },
  {
   "cell_type": "markdown",
   "id": "59bab211-f4cf-403b-b5d3-56bdde7bb275",
   "metadata": {},
   "source": [
    "[Google](https://wwww.google.com) "
   ]
  },
  {
   "cell_type": "markdown",
   "id": "fe8f7e6e-a56e-4da0-9b63-91e92c321b84",
   "metadata": {},
   "source": [
    "![이미지](https://upload.wikimedia.org/wikipedia/ko/2/22/Charlie_Brown.png)"
   ]
  },
  {
   "cell_type": "markdown",
   "id": "279e8fb7-010b-4da4-bc34-531f5725b641",
   "metadata": {},
   "source": [
    "왼쪽 정렬은 :--  \n",
    "오른쪽 정렬 --:  \n",
    "가운데 정렬 :--:"
   ]
  },
  {
   "cell_type": "markdown",
   "id": "f7330cdc-113c-4859-851c-4327b9af98b2",
   "metadata": {},
   "source": [
    "|제목 셀|제목 셀|제목 셀|\n",
    "|:--|--:|:--:|\n",
    "|값1|값2|값3|"
   ]
  },
  {
   "cell_type": "markdown",
   "id": "bacf0bf8-e1a9-459c-99bb-2d3f93512be2",
   "metadata": {},
   "source": [
    "  \n",
    "  \n",
    "마크다운에서도 코드처럼 작성하는 방법"
   ]
  },
  {
   "cell_type": "markdown",
   "id": "02a81187-358e-40aa-bc57-17fc5c570853",
   "metadata": {},
   "source": [
    "```python\n",
    "\n",
    "x = input('인사를 몇 번 할까요?')\n",
    "\n",
    "for _ in range(x):\n",
    "   print(\"Hello World\")\n",
    "\n",
    "```"
   ]
  }
 ],
 "metadata": {
  "kernelspec": {
   "display_name": "Python 3 (ipykernel)",
   "language": "python",
   "name": "python3"
  },
  "language_info": {
   "codemirror_mode": {
    "name": "ipython",
    "version": 3
   },
   "file_extension": ".py",
   "mimetype": "text/x-python",
   "name": "python",
   "nbconvert_exporter": "python",
   "pygments_lexer": "ipython3",
   "version": "3.9.13"
  }
 },
 "nbformat": 4,
 "nbformat_minor": 5
}
