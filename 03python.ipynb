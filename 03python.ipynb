{
 "cells": [
  {
   "cell_type": "markdown",
   "id": "84c35040-cb69-4532-ad68-152e2657cf64",
   "metadata": {},
   "source": [
    "# 2023.01.05 - Python"
   ]
  },
  {
   "cell_type": "markdown",
   "id": "94ebcc41-2081-4803-a42b-1a01a2bb4e55",
   "metadata": {},
   "source": [
    "## **함수**\n",
    "### **프로그래밍에서 독립적으로 설계된 프로그램 코드의 집합**"
   ]
  },
  {
   "cell_type": "markdown",
   "id": "3d1b0da9-1b05-444f-aa3b-cbc21a6e44e3",
   "metadata": {},
   "source": [
    "메인 코드\n",
    "```python\n",
    "x = 함수명(인수, 인수, ...)\n",
    "print(\"결과값:\", x)\n",
    "```"
   ]
  },
  {
   "cell_type": "markdown",
   "id": "fe982cba-23dc-4dd3-9afb-98c1579a00b3",
   "metadata": {},
   "source": [
    "함수 정의부 \n",
    "``` python\n",
    "def 함수명(인자, 인자, ...): \n",
    "    함수코드...\n",
    "    return 반환 값\n",
    "```"
   ]
  },
  {
   "cell_type": "markdown",
   "id": "d23a9b56-a56f-4d53-9f8e-65b9634f42cb",
   "metadata": {},
   "source": [
    "#### **프로그래밍에서의 함수(function)**\n",
    "함수 내부에 정의된 parameters에 넣어줄 값을 arguments에 담아 보낸다.  \n",
    "함수 호출을 하면 함수가 정의된 곳에서 코드를 실행하고 반환 값을 받아온다. \n"
   ]
  },
  {
   "cell_type": "markdown",
   "id": "9e5aa97b-c3eb-408d-93af-93eddef5f052",
   "metadata": {},
   "source": [
    "### **리스트 메서드**\n",
    "- append(요소)  \n",
    "- insert(인덱스, 요소)  \n",
    "- extend(리스트): 리스트에서 요소 여러 개를 맨 마지막에 추가  \n",
    "- remove(요소): 임력값과 첫 번째로 일치하는 요소를 리스트에서 삭제  \n",
    "- pop(): 리스트의 마지막 요소 제거한 후에 반환  \n",
    "- index(요소)  \n",
    "- count(요소)  \n",
    "- sort(): 기본 값은 오름차순  \n",
    "- reverse()  \n",
    "- clear(): 리스트의 모든 요소 제거"
   ]
  },
  {
   "cell_type": "markdown",
   "id": "7c9a1427-9939-4e18-b16b-716a05687c83",
   "metadata": {},
   "source": [
    "**append 리스트 제일 뒤에 요소 추가**  \n",
    "append(요소)"
   ]
  },
  {
   "cell_type": "markdown",
   "id": "8f1947d5-0905-4e57-b42a-2186c1d22b3d",
   "metadata": {},
   "source": [
    "numbers = [1, 2, 3, 4, 5, 6, 7]\n",
    "numbers.append(8)\n",
    "print(numbers)"
   ]
  },
  {
   "cell_type": "markdown",
   "id": "887993d2-f12c-4507-bfe9-67962be6543b",
   "metadata": {},
   "source": [
    "**insert 리스트에 요소를 원하는 인덱스 위치에 추가하기**  \n",
    "insrt(인덱스, 요소)"
   ]
  },
  {
   "cell_type": "code",
   "execution_count": 14,
   "id": "26050b91-f429-490d-a7aa-07d37e164f71",
   "metadata": {},
   "outputs": [
    {
     "name": "stdout",
     "output_type": "stream",
     "text": [
      "[0, 1, 2, 3, 0, 4, 0, 5, 6, 7, 8, 0]\n"
     ]
    }
   ],
   "source": [
    "numbers.insert(0, 0)\n",
    "numbers.insert(4, 0)\n",
    "numbers.insert(6, 0)\n",
    "numbers.insert(len(numbers), 0)\n",
    "print(numbers)"
   ]
  },
  {
   "cell_type": "markdown",
   "id": "60d43d07-bbb5-482e-8c2e-7fb6fd54c6c5",
   "metadata": {},
   "source": [
    "**extend는 리스트에 리스트를 뒤로 붙임**  \n",
    "리스트1.extend(리스트2)"
   ]
  },
  {
   "cell_type": "code",
   "execution_count": 15,
   "id": "7324e2a4-5ab7-4255-b38b-f5391bad18e9",
   "metadata": {},
   "outputs": [],
   "source": [
    "numbers.extend([4, 5, 6, 7])"
   ]
  },
  {
   "cell_type": "code",
   "execution_count": 16,
   "id": "8cac1ad2-be1a-4cab-9d15-2e012997256f",
   "metadata": {},
   "outputs": [
    {
     "name": "stdout",
     "output_type": "stream",
     "text": [
      "[0, 1, 2, 3, 0, 4, 0, 5, 6, 7, 8, 0, 4, 5, 6, 7]\n"
     ]
    }
   ],
   "source": [
    "print(numbers)"
   ]
  },
  {
   "cell_type": "markdown",
   "id": "cc677fb5-6a44-4299-809d-ebacd71d17ce",
   "metadata": {},
   "source": [
    "**remove 리스트에서 요소와 같은 것 첫 번째를 삭제**  \n",
    "리스트.remove(요소)"
   ]
  },
  {
   "cell_type": "code",
   "execution_count": 85,
   "id": "d9c15d31-9387-41b9-bea1-238114450e17",
   "metadata": {},
   "outputs": [],
   "source": [
    "number = [0, 1, 2, 3]\n",
    "number.remove(0) #del numbers[0] 과 동일"
   ]
  },
  {
   "cell_type": "code",
   "execution_count": 86,
   "id": "3c7efbd3-3b57-41d7-8ee7-cec9c26c45ae",
   "metadata": {},
   "outputs": [
    {
     "name": "stdout",
     "output_type": "stream",
     "text": [
      "[1, 2, 3]\n"
     ]
    }
   ],
   "source": [
    "print(number)"
   ]
  },
  {
   "cell_type": "markdown",
   "id": "ce92e899-61d5-4555-b6f4-4cc435c62826",
   "metadata": {},
   "source": [
    "**pop 맨 마지막 요소를 반환하고 제거**  \n",
    "리스트.pop()"
   ]
  },
  {
   "cell_type": "code",
   "execution_count": 20,
   "id": "43d9c8b4-65f1-475f-ba33-d94c9b23c0d8",
   "metadata": {},
   "outputs": [
    {
     "name": "stdout",
     "output_type": "stream",
     "text": [
      "7\n"
     ]
    }
   ],
   "source": [
    "print(numbers.pop())"
   ]
  },
  {
   "cell_type": "code",
   "execution_count": 21,
   "id": "537a6585-7f6a-4bc2-a414-9c75c882a506",
   "metadata": {},
   "outputs": [
    {
     "name": "stdout",
     "output_type": "stream",
     "text": [
      "[1, 2, 3, 4, 0, 5, 6, 7, 8, 0, 4, 5, 6]\n"
     ]
    }
   ],
   "source": [
    "print(numbers)"
   ]
  },
  {
   "cell_type": "markdown",
   "id": "b94da0b5-7863-4223-a7a0-ece611e18629",
   "metadata": {},
   "source": [
    "**인덱스는 리스트 안에 인자와 같은 요소를 앞에서 부터 찾아 인덱스 위치를 반환**     \n",
    "리스트.index(요소)"
   ]
  },
  {
   "cell_type": "code",
   "execution_count": 23,
   "id": "fe1c2f56-7abb-4fbe-b182-fe3231e43716",
   "metadata": {},
   "outputs": [
    {
     "name": "stdout",
     "output_type": "stream",
     "text": [
      "3\n"
     ]
    }
   ],
   "source": [
    "print(numbers.index(4))"
   ]
  },
  {
   "cell_type": "markdown",
   "id": "2f2cfbfc-8991-4743-a6dc-75d6b74749c4",
   "metadata": {},
   "source": [
    "**count 리스트에서 인자와 요소가 같은 총 개수를 반환**  \n",
    "리스트.count(요소)"
   ]
  },
  {
   "cell_type": "code",
   "execution_count": 25,
   "id": "459d49ed-a4de-4312-99ab-14beed150040",
   "metadata": {},
   "outputs": [
    {
     "name": "stdout",
     "output_type": "stream",
     "text": [
      "[1, 2, 3, 4, 0, 5, 6, 7, 8, 0, 4, 5, 6]\n",
      "2\n"
     ]
    }
   ],
   "source": [
    "print(numbers)\n",
    "print(numbers.count(0))"
   ]
  },
  {
   "cell_type": "markdown",
   "id": "ef671d5d-0125-4da1-ab87-fdb20be948d6",
   "metadata": {},
   "source": [
    "**sort 리스트 정렬**   \n",
    "- sort() 오름차순\n",
    "- reverse() 순서를 뒤집는 것\n",
    "    반환값은 둘 다 None"
   ]
  },
  {
   "cell_type": "code",
   "execution_count": 39,
   "id": "af7927f9-4dd4-4aa9-937e-66c2d57c0c5c",
   "metadata": {},
   "outputs": [
    {
     "name": "stdout",
     "output_type": "stream",
     "text": [
      "[0, 0, 1, 2, 3, 4, 4, 5, 5, 6, 6, 7, 8]\n",
      "[8, 7, 6, 6, 5, 5, 4, 4, 3, 2, 1, 0, 0]\n"
     ]
    }
   ],
   "source": [
    "numbers.sort()\n",
    "print(numbers)\n",
    "numbers.sort(reverse = True)\n",
    "print(numbers)"
   ]
  },
  {
   "cell_type": "markdown",
   "id": "02cf340e-7811-4319-a8d8-2c1ef5918761",
   "metadata": {},
   "source": [
    "# stack"
   ]
  },
  {
   "cell_type": "markdown",
   "id": "e9e14f64-3e21-4ab1-924a-545ace627907",
   "metadata": {},
   "source": [
    "- 후입선출(Last In First Out) 구조  \n",
    "- stack에서 자료를 꺼낼 때 pop()으로만 꺼내어 stack 자료구조처럼 활용"
   ]
  },
  {
   "cell_type": "code",
   "execution_count": 27,
   "id": "a6bd73e5-0a7d-4e8c-8594-9a4eb5dd338a",
   "metadata": {},
   "outputs": [
    {
     "name": "stdout",
     "output_type": "stream",
     "text": [
      "[3, 4, 5, 6, 7]\n",
      "7\n",
      "[3, 4, 5, 6]\n",
      "6\n",
      "[3, 4, 5]\n",
      "5\n",
      "[3, 4]\n"
     ]
    }
   ],
   "source": [
    "stack = [3, 4, 5]\n",
    "stack.append(6)\n",
    "stack.append(7)\n",
    "print(stack)\n",
    "\n",
    "print(stack.pop())\n",
    "print(stack)\n",
    "\n",
    "print(stack.pop())\n",
    "print(stack)\n",
    "\n",
    "print(stack.pop())\n",
    "print(stack)"
   ]
  },
  {
   "cell_type": "markdown",
   "id": "959a1f08-fbcf-4cdb-a406-803d45fd4740",
   "metadata": {},
   "source": [
    "# tuple\n",
    "> 리스트와 거의 유사하지만, 수정 불가능 (불변의 특징을 가짐)  \n",
    "> 튜플은 소괄호 사이에 요소들을 콤마로 구분지어 작성  \n",
    "> 소괄호 생략가능  "
   ]
  },
  {
   "cell_type": "markdown",
   "id": "0d7c21a2-c782-4fe4-885c-99a9ad797566",
   "metadata": {},
   "source": [
    "- 튜플 수정 불가능"
   ]
  },
  {
   "cell_type": "code",
   "execution_count": 31,
   "id": "7fa5ec88-b0e7-47f4-98e6-b52bb3384246",
   "metadata": {},
   "outputs": [
    {
     "ename": "TypeError",
     "evalue": "'tuple' object does not support item assignment",
     "output_type": "error",
     "traceback": [
      "\u001b[1;31m---------------------------------------------------------------------------\u001b[0m",
      "\u001b[1;31mTypeError\u001b[0m                                 Traceback (most recent call last)",
      "\u001b[1;32m~\\AppData\\Local\\Temp\\ipykernel_14560\\3185736444.py\u001b[0m in \u001b[0;36m<module>\u001b[1;34m\u001b[0m\n\u001b[0;32m      1\u001b[0m \u001b[0mtuple_variable\u001b[0m \u001b[1;33m=\u001b[0m \u001b[1;33m(\u001b[0m\u001b[1;36m1\u001b[0m\u001b[1;33m,\u001b[0m \u001b[1;36m2\u001b[0m\u001b[1;33m,\u001b[0m \u001b[1;36m3\u001b[0m\u001b[1;33m,\u001b[0m \u001b[1;36m4\u001b[0m\u001b[1;33m,\u001b[0m \u001b[1;36m5\u001b[0m\u001b[1;33m,\u001b[0m \u001b[1;34m'hello'\u001b[0m\u001b[1;33m)\u001b[0m\u001b[1;33m\u001b[0m\u001b[1;33m\u001b[0m\u001b[0m\n\u001b[1;32m----> 2\u001b[1;33m \u001b[0mtuple_variable\u001b[0m\u001b[1;33m[\u001b[0m\u001b[1;36m0\u001b[0m\u001b[1;33m]\u001b[0m \u001b[1;33m=\u001b[0m \u001b[1;36m0\u001b[0m \u001b[1;31m#튜플 수정 불가능\u001b[0m\u001b[1;33m\u001b[0m\u001b[1;33m\u001b[0m\u001b[0m\n\u001b[0m",
      "\u001b[1;31mTypeError\u001b[0m: 'tuple' object does not support item assignment"
     ]
    }
   ],
   "source": [
    "tuple_variable = (1, 2, 3, 4, 5, 'hello')\n",
    "tuple_variable[0] = 0"
   ]
  },
  {
   "cell_type": "markdown",
   "id": "f0891d1f-58fd-411f-b69f-a3b1c4e6236f",
   "metadata": {},
   "source": [
    "- 슬라이싱으로도 수정 불가능"
   ]
  },
  {
   "cell_type": "code",
   "execution_count": 32,
   "id": "55ff20eb-ed8f-40ae-9c1a-757bc6fe11bb",
   "metadata": {},
   "outputs": [
    {
     "ename": "TypeError",
     "evalue": "'tuple' object does not support item assignment",
     "output_type": "error",
     "traceback": [
      "\u001b[1;31m---------------------------------------------------------------------------\u001b[0m",
      "\u001b[1;31mTypeError\u001b[0m                                 Traceback (most recent call last)",
      "\u001b[1;32m~\\AppData\\Local\\Temp\\ipykernel_14560\\2564805367.py\u001b[0m in \u001b[0;36m<module>\u001b[1;34m\u001b[0m\n\u001b[0;32m      1\u001b[0m \u001b[1;31m#슬라이싱으로도 수정 불가능\u001b[0m\u001b[1;33m\u001b[0m\u001b[1;33m\u001b[0m\u001b[0m\n\u001b[1;32m----> 2\u001b[1;33m \u001b[0mtuple_variable\u001b[0m\u001b[1;33m[\u001b[0m\u001b[1;36m0\u001b[0m\u001b[1;33m:\u001b[0m\u001b[1;36m2\u001b[0m\u001b[1;33m]\u001b[0m \u001b[1;33m=\u001b[0m \u001b[1;33m(\u001b[0m\u001b[1;34m'음'\u001b[0m \u001b[1;33m,\u001b[0m \u001b[1;34m'오'\u001b[0m\u001b[1;33m)\u001b[0m\u001b[1;33m\u001b[0m\u001b[1;33m\u001b[0m\u001b[0m\n\u001b[0m",
      "\u001b[1;31mTypeError\u001b[0m: 'tuple' object does not support item assignment"
     ]
    }
   ],
   "source": [
    "tuple_variable[0:2] = ('음' , '오')"
   ]
  },
  {
   "cell_type": "markdown",
   "id": "09417c28-8d90-4dfb-8439-5303bcd868e8",
   "metadata": {},
   "source": [
    "- 튜플은 삭제도 불가능"
   ]
  },
  {
   "cell_type": "code",
   "execution_count": 33,
   "id": "22c3189e-cea0-4bb8-8e9c-e327c31cb145",
   "metadata": {},
   "outputs": [
    {
     "ename": "TypeError",
     "evalue": "'tuple' object doesn't support item deletion",
     "output_type": "error",
     "traceback": [
      "\u001b[1;31m---------------------------------------------------------------------------\u001b[0m",
      "\u001b[1;31mTypeError\u001b[0m                                 Traceback (most recent call last)",
      "\u001b[1;32m~\\AppData\\Local\\Temp\\ipykernel_14560\\2330493848.py\u001b[0m in \u001b[0;36m<module>\u001b[1;34m\u001b[0m\n\u001b[0;32m      1\u001b[0m \u001b[1;31m#튜플은 삭제도 불가능\u001b[0m\u001b[1;33m\u001b[0m\u001b[1;33m\u001b[0m\u001b[0m\n\u001b[1;32m----> 2\u001b[1;33m \u001b[1;32mdel\u001b[0m \u001b[0mtuple_variable\u001b[0m\u001b[1;33m[\u001b[0m\u001b[1;36m0\u001b[0m\u001b[1;33m]\u001b[0m\u001b[1;33m\u001b[0m\u001b[1;33m\u001b[0m\u001b[0m\n\u001b[0m",
      "\u001b[1;31mTypeError\u001b[0m: 'tuple' object doesn't support item deletion"
     ]
    }
   ],
   "source": [
    "del tuple_variable[0]"
   ]
  },
  {
   "cell_type": "markdown",
   "id": "05f990b3-e064-4da8-b837-ea43cdfa40c8",
   "metadata": {},
   "source": [
    "- 튜플은 소괄호 없어도 된다"
   ]
  },
  {
   "cell_type": "code",
   "execution_count": 35,
   "id": "6df7cfbb-7594-4f4e-ab1d-9b14435241bc",
   "metadata": {},
   "outputs": [
    {
     "name": "stdout",
     "output_type": "stream",
     "text": [
      "<class 'tuple'>\n"
     ]
    }
   ],
   "source": [
    "t_v2 = '음', '오', '아', '예'\n",
    "print(type(t_v2))"
   ]
  },
  {
   "cell_type": "markdown",
   "id": "d533f704-c8a4-48ec-969f-1e2b578696cb",
   "metadata": {},
   "source": [
    "## 튜플을 쓰는 이유  \n",
    "- 리스트는 크기가 바뀌기 때문에 그에 따른 초과할당까지 고려하여 메모리에 데이터를 저장할 수 있을지 신경써야 한다.  \n",
    "- 튜플은 빠르게 생성할 수 있고 리스트보다 메모리 부담이 적은 대신 그 내용을 변경할 수 없다.  \n",
    "- 튜플의 동작이 더 빠르다."
   ]
  },
  {
   "cell_type": "markdown",
   "id": "73ffcf56-134a-42df-88dd-681443b1dc2e",
   "metadata": {},
   "source": [
    "### 튜플과 리스트의 소요시간 비교"
   ]
  },
  {
   "cell_type": "markdown",
   "id": "b0b3254e-f996-4bb1-a25a-f2a4f2fa1bb4",
   "metadata": {},
   "source": [
    "튜플의 소요시간"
   ]
  },
  {
   "cell_type": "code",
   "execution_count": 37,
   "id": "b6a57397-bac4-4010-ad42-3749de28c20d",
   "metadata": {},
   "outputs": [
    {
     "name": "stdout",
     "output_type": "stream",
     "text": [
      "0.15625691413879395\n"
     ]
    }
   ],
   "source": [
    "import time\n",
    "\n",
    "curr = time.time()\n",
    "total = []\n",
    "\n",
    "\n",
    "for i in range(1000):\n",
    "    for j in range(1000):\n",
    "        total.append((i, j))\n",
    "        \n",
    "        \n",
    "last = time.time()\n",
    "print(last - curr)"
   ]
  },
  {
   "cell_type": "markdown",
   "id": "aa2fe14a-50b2-4aa9-8044-edea2326d8ae",
   "metadata": {},
   "source": [
    "리스트의 소요시간"
   ]
  },
  {
   "cell_type": "code",
   "execution_count": 38,
   "id": "c8901e75-a087-434b-a013-97b58539b7b1",
   "metadata": {},
   "outputs": [
    {
     "name": "stdout",
     "output_type": "stream",
     "text": [
      "0.4754340648651123\n"
     ]
    }
   ],
   "source": [
    "import time\n",
    "\n",
    "\n",
    "curr = time.time()\n",
    "total = []\n",
    "\n",
    "\n",
    "for i in range(1000):\n",
    "    for j in range(1000):\n",
    "        total.append([i, j])\n",
    "        \n",
    "        \n",
    "last = time.time()\n",
    "print(last - curr)"
   ]
  },
  {
   "cell_type": "markdown",
   "id": "cf3357d6-937c-4322-9dfe-18d70ea48fdf",
   "metadata": {},
   "source": [
    "연습문제2"
   ]
  },
  {
   "cell_type": "markdown",
   "id": "5ac13bb1-ae65-444c-b9ca-8c084c833de5",
   "metadata": {},
   "source": [
    "1. 처음 20번째까지 소수(Prime Number)\n",
    "2. 프로그래밍 언어의 종류\n",
    "3. 사람의 나이, 몸무게, 키\n",
    "4. 사람의 생일과 출생지\n",
    "5. 롤 게임의 결과\n",
    "6. 잇단 롤게임의 결과"
   ]
  },
  {
   "cell_type": "markdown",
   "id": "c5bbf03d-ca49-4772-a4fa-9e12e587bb2f",
   "metadata": {},
   "source": [
    "## 변수 여러개 동시 할당하기(Unpacking)\n",
    "> 시퀀스 자료형의 크기 만큼 좌변의 변수 개수를 동일할 때 선언하면 시퀀스 자료형의 요소 각각을 변수에 동시에 할당할 수 있다."
   ]
  },
  {
   "cell_type": "code",
   "execution_count": 41,
   "id": "f924b0fe-8e34-4026-a19e-f1471241b6e9",
   "metadata": {},
   "outputs": [
    {
     "name": "stdout",
     "output_type": "stream",
     "text": [
      "text1\n",
      "text2\n"
     ]
    }
   ],
   "source": [
    "s1, s2 = \"text1\", \"text2\"\n",
    "print(s1)\n",
    "print(s2)"
   ]
  },
  {
   "cell_type": "markdown",
   "id": "9ee8cf20-a7e7-464a-941c-f269a6635f0c",
   "metadata": {},
   "source": [
    "**다른 시퀀스 자료형도 unpacking 가능**"
   ]
  },
  {
   "cell_type": "code",
   "execution_count": 43,
   "id": "ebf2a0f1-d82d-473f-a1dd-06dd984dc992",
   "metadata": {},
   "outputs": [
    {
     "name": "stdout",
     "output_type": "stream",
     "text": [
      "이렇게\n",
      "리스트도\n",
      "가능합니다.\n"
     ]
    }
   ],
   "source": [
    "s3, s4, s5 = ['이렇게' , '리스트도' , '가능합니다.']\n",
    "print(s3)\n",
    "print(s4)\n",
    "print(s5)"
   ]
  },
  {
   "cell_type": "code",
   "execution_count": 44,
   "id": "2e75c1e8-aabd-49b9-9e4f-123d45324f31",
   "metadata": {},
   "outputs": [
    {
     "name": "stdout",
     "output_type": "stream",
     "text": [
      "문 자 열 도\n"
     ]
    }
   ],
   "source": [
    "s6, s7, s8, s9 = \"문자열도\"\n",
    "print(s6, s7, s8, s9)"
   ]
  },
  {
   "cell_type": "markdown",
   "id": "bc4dd085-a792-411a-9b21-5b68f2a7b812",
   "metadata": {},
   "source": [
    "## 파이썬 입력 사용해보기"
   ]
  },
  {
   "cell_type": "markdown",
   "id": "24c425d7-b709-419c-8374-93cfc0260d63",
   "metadata": {},
   "source": [
    "> input() 내장 함수를 사용해서 사용자로부터 값을 받기  \n",
    "> 이때 받아온 값은 문자열로 받음   \n",
    "> input('메세지') "
   ]
  },
  {
   "cell_type": "code",
   "execution_count": 45,
   "id": "21c325d7-4475-40d4-b3a0-153bd4ffafde",
   "metadata": {},
   "outputs": [
    {
     "name": "stdin",
     "output_type": "stream",
     "text": [
      "Message 1111\n"
     ]
    }
   ],
   "source": [
    "input_value = input(\"Message\")"
   ]
  },
  {
   "cell_type": "code",
   "execution_count": 46,
   "id": "9abaf549-9a4b-4fbf-8865-19f019add048",
   "metadata": {},
   "outputs": [
    {
     "name": "stdout",
     "output_type": "stream",
     "text": [
      "input_value: 1111 \n",
      "type: <class 'str'>\n"
     ]
    }
   ],
   "source": [
    "print(\"input_value:\", input_value, \"\\ntype:\", type(input_value))"
   ]
  },
  {
   "cell_type": "markdown",
   "id": "931cee50-67d6-4166-8277-33ed57ec26e3",
   "metadata": {},
   "source": [
    "#### 사용자가 입력한 값을 정수로 변환하려면 int() 내장 함수 활용하기"
   ]
  },
  {
   "cell_type": "code",
   "execution_count": 49,
   "id": "8619b8fc-2cff-48e1-8b1a-b81b95d217f7",
   "metadata": {},
   "outputs": [
    {
     "name": "stdin",
     "output_type": "stream",
     "text": [
      " 989898\n"
     ]
    },
    {
     "name": "stdout",
     "output_type": "stream",
     "text": [
      "input_value: 989898 \n",
      "type: <class 'int'>\n"
     ]
    }
   ],
   "source": [
    "input_value = int(input())\n",
    "print(\"input_value:\", input_value, \"\\ntype:\", type(input_value))"
   ]
  },
  {
   "cell_type": "code",
   "execution_count": 52,
   "id": "1df00d66-43e5-4b8d-8651-9eed21b70e47",
   "metadata": {},
   "outputs": [
    {
     "name": "stdin",
     "output_type": "stream",
     "text": [
      "정수 외에 다른 값을 입력해보세요. 1.1\n"
     ]
    }
   ],
   "source": [
    "input_value2 = input(\"정수 외에 다른 값을 입력해보세요.\")"
   ]
  },
  {
   "cell_type": "code",
   "execution_count": 53,
   "id": "39918bd4-974c-4b1b-9dc1-3ac8e150a950",
   "metadata": {},
   "outputs": [
    {
     "ename": "ValueError",
     "evalue": "invalid literal for int() with base 10: '1.1'",
     "output_type": "error",
     "traceback": [
      "\u001b[1;31m---------------------------------------------------------------------------\u001b[0m",
      "\u001b[1;31mValueError\u001b[0m                                Traceback (most recent call last)",
      "\u001b[1;32m~\\AppData\\Local\\Temp\\ipykernel_14560\\2276108740.py\u001b[0m in \u001b[0;36m<module>\u001b[1;34m\u001b[0m\n\u001b[1;32m----> 1\u001b[1;33m \u001b[0mprint\u001b[0m\u001b[1;33m(\u001b[0m\u001b[0mint\u001b[0m\u001b[1;33m(\u001b[0m\u001b[0minput_value2\u001b[0m\u001b[1;33m)\u001b[0m\u001b[1;33m)\u001b[0m\u001b[1;33m\u001b[0m\u001b[1;33m\u001b[0m\u001b[0m\n\u001b[0m",
      "\u001b[1;31mValueError\u001b[0m: invalid literal for int() with base 10: '1.1'"
     ]
    }
   ],
   "source": [
    "print(int(input_value2))"
   ]
  },
  {
   "cell_type": "code",
   "execution_count": 56,
   "id": "be88abba-7cda-4b8c-97dc-97a5ee684dd5",
   "metadata": {},
   "outputs": [],
   "source": [
    "input_value2 = float(input_value2)"
   ]
  },
  {
   "cell_type": "code",
   "execution_count": 57,
   "id": "80d49ac9-6f96-4942-bdb2-4ac085d3f2b9",
   "metadata": {},
   "outputs": [
    {
     "name": "stdout",
     "output_type": "stream",
     "text": [
      "11.0\n"
     ]
    }
   ],
   "source": [
    "print(input_value2)"
   ]
  },
  {
   "cell_type": "code",
   "execution_count": 58,
   "id": "bec4c0e0-6454-4ece-b6f4-0a2555ca98b5",
   "metadata": {},
   "outputs": [
    {
     "name": "stdout",
     "output_type": "stream",
     "text": [
      "11\n"
     ]
    }
   ],
   "source": [
    "input_value2 = int(input_value2)\n",
    "print(input_value2)"
   ]
  },
  {
   "cell_type": "code",
   "execution_count": null,
   "id": "66bf461b-74c7-4903-aca3-cf545c659523",
   "metadata": {},
   "outputs": [
    {
     "name": "stdin",
     "output_type": "stream",
     "text": [
      "정수를 입력해주세요: 14\n"
     ]
    },
    {
     "name": "stdout",
     "output_type": "stream",
     "text": [
      "14\n"
     ]
    }
   ],
   "source": [
    "input_value4 = int(input(\"정수를 입력해주세요:\"))\n",
    "print(input_value4)"
   ]
  },
  {
   "cell_type": "markdown",
   "id": "385eb92c-54c4-4135-ba80-7ff56370b987",
   "metadata": {},
   "source": [
    "#### **input() 내장 함수 사용 시 정수만 입력 받는 방법**  \n",
    "input() 내장함수로 띄운 입력은 콘솔에서 받는 값. 콘솔은 문자열로 처리  \n",
    "콘솔에서는 잘못된 입력했을 때 오류 메시지 띄워 재입력 유도  \n",
    "GUI일 때는 Component에 Listener 통해 사용자 값 제어 가능"
   ]
  },
  {
   "cell_type": "markdown",
   "id": "cc07681a-5d07-43e3-85e9-1ad614cf5cce",
   "metadata": {},
   "source": [
    "## 입력 값을 여러 개의 변수에 저장하기"
   ]
  },
  {
   "cell_type": "code",
   "execution_count": 80,
   "id": "8b6924a3-04ff-432b-aef1-85e27dc398f9",
   "metadata": {},
   "outputs": [
    {
     "name": "stdout",
     "output_type": "stream",
     "text": [
      "<class 'list'>\n",
      "['1', ' 2', ' 3']\n"
     ]
    }
   ],
   "source": [
    "result = '1, 2, 3'.split(',')\n",
    "print(type(result))\n",
    "print(result)"
   ]
  },
  {
   "cell_type": "markdown",
   "id": "608205e2-a80c-433d-bca8-380b44220556",
   "metadata": {},
   "source": [
    "## Map\n",
    "> **map(function, iterable) --> <class 'map'>(iterable)**  \n",
    "> iterable 객체에서 요소를 하나한 꺼내어 특정 함수를 각각 적용하고 싶을 때 사용  \n",
    "> 반환은 map 클래스를 반환하는데 이는 iterable한 객체  \n",
    "> list()함수 또는 tuple()함수를 활용하여 map 클래스를 list 혹은 tuple로 변경 가능"
   ]
  },
  {
   "cell_type": "code",
   "execution_count": 87,
   "id": "11777668-d900-421a-8732-e328b216c8d1",
   "metadata": {},
   "outputs": [
    {
     "name": "stdout",
     "output_type": "stream",
     "text": [
      "[1, 2, 3, 4]\n"
     ]
    }
   ],
   "source": [
    "a = [1.2, 2.5, 3.7, 4.6]\n",
    "a = list(map(int, a)) # int(a[0]), int(a[1]), int(a[2]), int(a[3]) 와 동일\n",
    "print(a)"
   ]
  },
  {
   "cell_type": "markdown",
   "id": "7b392b3b-3b7c-4207-81dd-c6e3a14fa15e",
   "metadata": {},
   "source": [
    "## 파이썬 출력 - 값과 값을 구분하는 단위 변경하기\n",
    "> print() 함수를 여러 인자 값을 사용한다며, 갑과 값을 구분하는 기본 문자는 공백으로 되어있다.   \n",
    "> 맨 마지막에 **'sep = 구분 기호'** 작성하여 공백이 아닌 다른 문자로 변경 가능"
   ]
  },
  {
   "cell_type": "code",
   "execution_count": 107,
   "id": "a181eff5-4db4-427a-9fb6-8e300a384a0b",
   "metadata": {},
   "outputs": [
    {
     "name": "stdout",
     "output_type": "stream",
     "text": [
      "value, 1, 1.1, [1, 2, 'text']\n"
     ]
    }
   ],
   "source": [
    "# sep의 기본 값은 공백\n",
    "print(\"value\", 1, 1.1, [1, 2, 'text'], sep = ', ')"
   ]
  },
  {
   "cell_type": "markdown",
   "id": "a6d7f221-ec7f-47d3-bc08-b9c8b0c763a2",
   "metadata": {},
   "source": [
    "## 파이썬 출력 - 맨 뒤 출력 문자 변경하기\n",
    "> print()는 줄바꿈이 기본값으로 설정  \n",
    "> 맨 마지막에 **end = \"문자열\"** 입력하여 변경 가능"
   ]
  },
  {
   "cell_type": "code",
   "execution_count": 108,
   "id": "e0ec2178-54c2-421c-8f5c-b36ad0e65c78",
   "metadata": {},
   "outputs": [
    {
     "name": "stdout",
     "output_type": "stream",
     "text": [
      "줄이 바뀌지 않습니다.줄이 바뀌지 않는 이유는 end =\"\\n\"과 같이 기본 설정된 값을 빈 스트링으로 변경했기 때문입니다.\n",
      "sep, end는 맨 뒤에 써야하며 둘 간 순서는 상관없다.어떻게 사용하는지\n",
      "이해가 되시나요?"
     ]
    }
   ],
   "source": [
    "print(\"줄이 바뀌지 않습니다.\", end = \"\")\n",
    "print(\"줄이 바뀌지 않는 이유는 end =\\\"\\\\n\\\"과 같이 기본 설정된 값을 빈 스트링으로 변경했기 때문입니다.\")\n",
    "print(\"sep\", \"end는 맨 뒤에 써야하며 둘 간 순서는 상관없다.\", sep = \", \", end = \"\")\n",
    "print(\"어떻게 사용하는지\", \"이해가 되시나요\", sep = \"\\n\", end = \"?\")"
   ]
  },
  {
   "cell_type": "markdown",
   "id": "f831e26c-d629-4802-9c1d-16257a170a7d",
   "metadata": {},
   "source": [
    "# if"
   ]
  },
  {
   "cell_type": "markdown",
   "id": "788a82e7-3b5b-4fea-ba0b-a77e50d47f84",
   "metadata": {},
   "source": [
    "## 객체 타입을 비교할 땐 is 키워드\n",
    "> 좌 is 우 \n",
    "> 좌, 우 객체를 비교하여 \n",
    ">>동일한 종류의 객체라면 True  \n",
    ">>다른 종류라면 False 반환"
   ]
  },
  {
   "cell_type": "code",
   "execution_count": 109,
   "id": "2ca1cc6f-a939-4c1b-9cb8-32bd04fe5022",
   "metadata": {},
   "outputs": [
    {
     "name": "stdout",
     "output_type": "stream",
     "text": [
      "input_value4는 정수입니다.\n"
     ]
    }
   ],
   "source": [
    "if type(input_value4) is int:\n",
    "    print(\"input_value4는 정수입니다.\")"
   ]
  },
  {
   "cell_type": "markdown",
   "id": "93e69a39-b638-4d97-9b2c-a831b0eed1e2",
   "metadata": {},
   "source": [
    "## if문에 True와 False를 복합적으로 다룰 때는 논리연산자\n",
    "### 논리연산자 사용\n",
    "> and: 좌, 우 모두 True 일 True  \n",
    "> or: 좌, 우 둘 중 하나라도 True일 때 True  \n",
    "> not: True를 False로"
   ]
  },
  {
   "cell_type": "markdown",
   "id": "3ac52c5a-2cfd-4dd0-b042-3fb33caa9c83",
   "metadata": {},
   "source": [
    "### if문과 elif문\n",
    "> if: 만약 이조건이 False면 아래 들여쓰기한 부분을 패스  \n",
    "> elif: 위조건이 아니고 만약 이 조건이 True이면 실행"
   ]
  },
  {
   "cell_type": "code",
   "execution_count": 112,
   "id": "43e04fcb-b2d3-4af9-9ab4-18626d40033f",
   "metadata": {},
   "outputs": [
    {
     "name": "stdout",
     "output_type": "stream",
     "text": [
      "30대입니다.\n",
      "감사합니다.\n"
     ]
    }
   ],
   "source": [
    "age = 39\n",
    "# 파이썬에섭만 비교 연산자 한 번에 가능 \n",
    "# 다른 언어에서는 각각 논리연산자 사용해서 써야 함\n",
    "if 0 <= age < 30:\n",
    "    print(\"20대입니다.\")\n",
    "elif 30 <= age < 40:\n",
    "    print(\"30대입니다.\")\n",
    "    \n",
    "print(\"감사합니다.\")"
   ]
  },
  {
   "cell_type": "markdown",
   "id": "aa9b2490-1e7c-4daa-8766-b1635be9f5c7",
   "metadata": {},
   "source": [
    "## elif문 주의사항\n",
    "-  조건들이 상호 배타적이지 않은 경우에는 if문과 elif문의 조건 순서를 반드시 고려해야한다."
   ]
  },
  {
   "cell_type": "code",
   "execution_count": null,
   "id": "3af01312-8984-4109-8659-96dac639a1eb",
   "metadata": {},
   "outputs": [],
   "source": []
  }
 ],
 "metadata": {
  "kernelspec": {
   "display_name": "Python 3 (ipykernel)",
   "language": "python",
   "name": "python3"
  },
  "language_info": {
   "codemirror_mode": {
    "name": "ipython",
    "version": 3
   },
   "file_extension": ".py",
   "mimetype": "text/x-python",
   "name": "python",
   "nbconvert_exporter": "python",
   "pygments_lexer": "ipython3",
   "version": "3.9.13"
  }
 },
 "nbformat": 4,
 "nbformat_minor": 5
}
